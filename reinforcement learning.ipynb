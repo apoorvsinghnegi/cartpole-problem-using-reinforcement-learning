{
 "cells": [
  {
   "cell_type": "code",
   "execution_count": null,
   "metadata": {},
   "outputs": [],
   "source": []
  },
  {
   "cell_type": "code",
   "execution_count": 1,
   "metadata": {},
   "outputs": [],
   "source": [
    "import gym"
   ]
  },
  {
   "cell_type": "code",
   "execution_count": 2,
   "metadata": {},
   "outputs": [],
   "source": [
    "#create an environment\n",
    "env = gym.make('CartPole-v0') # name of game\n",
    "    "
   ]
  },
  {
   "cell_type": "code",
   "execution_count": 3,
   "metadata": {},
   "outputs": [
    {
     "data": {
      "text/plain": [
       "array([ 0.00963219, -0.01569452,  0.00182675,  0.03424951])"
      ]
     },
     "execution_count": 3,
     "metadata": {},
     "output_type": "execute_result"
    }
   ],
   "source": [
    "env.reset() # gives all the variables associated with the environment \n",
    "            # for e.g. in cartpole game this could be location of cart, velocity of cart, angular velocity of pole, linear velocity\n",
    "    # hence this array contains 4 values as 4 attributes define our environment"
   ]
  },
  {
   "cell_type": "code",
   "execution_count": null,
   "metadata": {},
   "outputs": [],
   "source": [
    " "
   ]
  },
  {
   "cell_type": "code",
   "execution_count": 4,
   "metadata": {},
   "outputs": [
    {
     "data": {
      "text/plain": [
       "Discrete(2)"
      ]
     },
     "execution_count": 4,
     "metadata": {},
     "output_type": "execute_result"
    }
   ],
   "source": [
    "env.action_space # dicrete action space showing we can have only two action \n",
    "                 # one is move left and other one is move right"
   ]
  },
  {
   "cell_type": "code",
   "execution_count": 5,
   "metadata": {},
   "outputs": [
    {
     "data": {
      "text/plain": [
       "2"
      ]
     },
     "execution_count": 5,
     "metadata": {},
     "output_type": "execute_result"
    }
   ],
   "source": [
    "env.action_space.n #gives total number of possible actions"
   ]
  },
  {
   "cell_type": "code",
   "execution_count": 6,
   "metadata": {},
   "outputs": [
    {
     "data": {
      "text/plain": [
       "Box(-3.4028234663852886e+38, 3.4028234663852886e+38, (4,), float32)"
      ]
     },
     "execution_count": 6,
     "metadata": {},
     "output_type": "execute_result"
    }
   ],
   "source": [
    "env.observation_space"
   ]
  },
  {
   "cell_type": "code",
   "execution_count": 7,
   "metadata": {},
   "outputs": [
    {
     "data": {
      "text/plain": [
       "4"
      ]
     },
     "execution_count": 7,
     "metadata": {},
     "output_type": "execute_result"
    }
   ],
   "source": [
    "env.observation_space.shape[0]"
   ]
  },
  {
   "cell_type": "code",
   "execution_count": 23,
   "metadata": {},
   "outputs": [
    {
     "name": "stderr",
     "output_type": "stream",
     "text": [
      "C:\\Users\\Apoorv singh negi\\anaconda3\\lib\\site-packages\\gym\\logger.py:30: UserWarning: \u001b[33mWARN: You are calling 'step()' even though this environment has already returned done = True. You should always call 'reset()' once you receive 'done = True' -- any further steps are undefined behavior.\u001b[0m\n",
      "  warnings.warn(colorize('%s: %s'%('WARN', msg % args), 'yellow'))\n"
     ]
    }
   ],
   "source": [
    "env.reset()\n",
    "for t in range(1000):\n",
    "    random_Action = env.action_space.sample()\n",
    "    env.step(random_Action) #action space contains all the possible actions,.sample picks one of those actions randomly\n",
    "    env.render()\n",
    "env.close()   \n",
    "#env.step() executes a particular action"
   ]
  },
  {
   "cell_type": "code",
   "execution_count": 24,
   "metadata": {},
   "outputs": [
    {
     "name": "stdout",
     "output_type": "stream",
     "text": [
      "game episode :0/20 high score:14\n",
      "game episode :1/20 high score:18\n",
      "game episode :2/20 high score:18\n",
      "game episode :3/20 high score:25\n",
      "game episode :4/20 high score:12\n",
      "game episode :5/20 high score:20\n",
      "game episode :6/20 high score:12\n",
      "game episode :7/20 high score:10\n",
      "game episode :8/20 high score:10\n",
      "game episode :9/20 high score:12\n",
      "game episode :10/20 high score:12\n",
      "game episode :11/20 high score:21\n",
      "game episode :12/20 high score:16\n",
      "game episode :13/20 high score:23\n",
      "game episode :14/20 high score:18\n",
      "game episode :15/20 high score:11\n",
      "game episode :16/20 high score:12\n",
      "game episode :17/20 high score:30\n",
      "game episode :18/20 high score:15\n",
      "game episode :19/20 high score:19\n",
      "all 20 episodes are over\n"
     ]
    }
   ],
   "source": [
    "for e in range(20): #we will play 20 episodes\n",
    "    observation = env.reset()\n",
    "    for t in range(50):\n",
    "        env.render()\n",
    "        action = env.action_space.sample()\n",
    "        observation,reward,done,other_info = env.step(action)\n",
    "        \n",
    "        if done: #this means game episode is over\n",
    "            print(\"game episode :{}/{} high score:{}\".format(e,20,t))\n",
    "            break\n",
    "        \n",
    "env.close()\n",
    "print(\"all 20 episodes are over\")"
   ]
  },
  {
   "cell_type": "code",
   "execution_count": 7,
   "metadata": {},
   "outputs": [],
   "source": [
    "import gym\n",
    "import numpy as np\n",
    "import matplotlib.pyplot as plt\n",
    "import os\n",
    "from collections import deque\n",
    "from keras.models import Sequential\n",
    "from keras.layers import Dense\n",
    "from keras.optimizers import Adam\n",
    "import random\n",
    "%matplotlib inline\n",
    "\n",
    "\n",
    "        "
   ]
  },
  {
   "cell_type": "code",
   "execution_count": 8,
   "metadata": {},
   "outputs": [],
   "source": [
    "class Agent:\n",
    "    def __init__(self,state_size,action_size):\n",
    "        self.state_size = state_size\n",
    "        self.action_size = action_size\n",
    "        self.memory = deque(maxlen=2000)\n",
    "        self.gamma = 0.95 #Discount factor\n",
    "        #exploration vs exploitation tradeoff\n",
    "        self.epsilon = 1.0 #100% random exploration in the beginning no knowlegde of the environment(Epsilon Greedy Method)\n",
    "        self.epsion_decay = 0.995\n",
    "        self.epsion_min = 0.01 #with 1% of prob I am going to take a random step at the end\n",
    "        self.learning_rate = 0.001\n",
    "        self.model = self.create_model()\n",
    "        \n",
    "    def create_model(self):\n",
    "        model = Sequential()\n",
    "        model.add(Dense(24,input_dim=self.state_size,activation='relu'))#first layer,input dimension = 4 as we have 4 variables to define env. state\n",
    "        model.add(Dense(24,activation='relu'))#second layer\n",
    "        model.add(Dense(self.action_size,activation='linear'))#output layer has 2(self.sction_size) neurons as we have two movements to define, one left and one right. \n",
    "        model.compile(loss='mse',optimizer=Adam(lr=0.001))\n",
    "        return model    \n",
    "        \n",
    "    def remember(self,state,action,reward,next_state,done):\n",
    "    #remember past experience\n",
    "        self.memory.append((state,action,reward,next_state,done))\n",
    "\n",
    "    def act(self,state):\n",
    "    #sampling according to epsilon greedy method\n",
    "        if np.random.rand()<=self.epsilon:\n",
    "        #take a random action\n",
    "           return random.randrange(self.action_size)\n",
    "    #ask neural network to give me the most suitable action\n",
    "        return np.argmax(self.model.predict(state)[0]) # which is the best reward out of available 2 rewards hence we use argmax\n",
    "    \n",
    "\n",
    "    \n",
    "    def train(self,batch_size=32):\n",
    "    #training using a 'replay buffer'\n",
    "        minibatch = random.sample(self.memory,batch_size)#each mini batch is of 32 batch size we are feeding each example of that 32 examples to our neural network\n",
    "        for experience in minibatch:\n",
    "            state,action,reward,next_state,done = experience\n",
    "        #X,y : state,expected reward(using bellman equation)\n",
    "            if not done:\n",
    "                \n",
    "            \n",
    "               target = reward + self.gamma*np.amax(self.model.predict(next_state)[0]) # to predict rewards we would get in the next state we use neural network\n",
    "            else: #if game is not over\n",
    "                target = reward #final reward we get in last stage\n",
    "        \n",
    "            target_f = self.model.predict(state)\n",
    "            target_f[0][action] = target\n",
    "        #x= state, y = target_f\n",
    "            self.model.fit(state,target_f,epochs=1,verbose = 0)\n",
    "            if self.epsilon > self.epsion_min:\n",
    "                self.epsilon *= self.epsion_decay  # if it is more than min then decay the epsilon    \n",
    "\n",
    "    def load(self,name):\n",
    "        self.model.load_weights(name)\n",
    "    \n",
    "    \n",
    "    def save(self,name):\n",
    "        self.model.save_weights(name)                "
   ]
  },
  {
   "cell_type": "code",
   "execution_count": null,
   "metadata": {},
   "outputs": [],
   "source": []
  },
  {
   "cell_type": "code",
   "execution_count": null,
   "metadata": {},
   "outputs": [],
   "source": []
  },
  {
   "cell_type": "code",
   "execution_count": null,
   "metadata": {},
   "outputs": [],
   "source": []
  },
  {
   "cell_type": "code",
   "execution_count": 9,
   "metadata": {},
   "outputs": [],
   "source": [
    "#x = np.random.rand(1,4) #we are giving 1 vector with 4 columns signifing 4 attributes randomly or a particular state\n",
    "#model.predict(x) #this gives us what action we should take, left or right\n",
    "#this is fed to a neural network which is not trained yet\n",
    "# here 1 in x specifies batch size"
   ]
  },
  {
   "cell_type": "code",
   "execution_count": null,
   "metadata": {},
   "outputs": [],
   "source": [
    "\n",
    "             \n",
    "         "
   ]
  },
  {
   "cell_type": "code",
   "execution_count": null,
   "metadata": {},
   "outputs": [],
   "source": []
  },
  {
   "cell_type": "code",
   "execution_count": null,
   "metadata": {},
   "outputs": [],
   "source": []
  },
  {
   "cell_type": "code",
   "execution_count": 10,
   "metadata": {},
   "outputs": [],
   "source": [
    "#training deep q agent\n",
    "n_episodes = 1000 # no of times we want to play the game\n",
    "output_dir = \"cartpole_model/\""
   ]
  },
  {
   "cell_type": "code",
   "execution_count": 11,
   "metadata": {},
   "outputs": [],
   "source": [
    "agent = Agent(state_size=4,action_size=2) # define our agent class\n",
    "done = False\n",
    "state_size = 4\n",
    "action_size = 2"
   ]
  },
  {
   "cell_type": "code",
   "execution_count": null,
   "metadata": {},
   "outputs": [
    {
     "name": "stdout",
     "output_type": "stream",
     "text": [
      "game episode:0/20 high score:17 exploration rate:1.0\n",
      "game episode:1/20 high score:17 exploration rate:1.0\n",
      "game episode:2/20 high score:20 exploration rate:0.85\n",
      "game episode:3/20 high score:21 exploration rate:0.73\n",
      "game episode:4/20 high score:18 exploration rate:0.62\n",
      "game episode:5/20 high score:7 exploration rate:0.53\n",
      "game episode:6/20 high score:8 exploration rate:0.45\n",
      "game episode:7/20 high score:11 exploration rate:0.38\n",
      "game episode:8/20 high score:10 exploration rate:0.33\n",
      "game episode:9/20 high score:15 exploration rate:0.28\n",
      "game episode:10/20 high score:11 exploration rate:0.24\n",
      "game episode:11/20 high score:8 exploration rate:0.2\n",
      "game episode:12/20 high score:8 exploration rate:0.17\n",
      "game episode:13/20 high score:8 exploration rate:0.15\n",
      "game episode:14/20 high score:9 exploration rate:0.12\n",
      "game episode:15/20 high score:8 exploration rate:0.11\n",
      "game episode:16/20 high score:7 exploration rate:0.09\n",
      "game episode:17/20 high score:8 exploration rate:0.077\n",
      "game episode:18/20 high score:7 exploration rate:0.065\n",
      "game episode:19/20 high score:7 exploration rate:0.056\n",
      "game episode:20/20 high score:10 exploration rate:0.047\n",
      "game episode:21/20 high score:9 exploration rate:0.04\n",
      "game episode:22/20 high score:7 exploration rate:0.034\n",
      "game episode:23/20 high score:7 exploration rate:0.029\n",
      "game episode:24/20 high score:8 exploration rate:0.025\n",
      "game episode:25/20 high score:8 exploration rate:0.021\n",
      "game episode:26/20 high score:7 exploration rate:0.018\n",
      "game episode:27/20 high score:8 exploration rate:0.015\n",
      "game episode:28/20 high score:8 exploration rate:0.013\n",
      "game episode:29/20 high score:10 exploration rate:0.011\n",
      "game episode:30/20 high score:9 exploration rate:0.01\n",
      "game episode:31/20 high score:10 exploration rate:0.01\n",
      "game episode:32/20 high score:9 exploration rate:0.01\n",
      "game episode:33/20 high score:9 exploration rate:0.01\n",
      "game episode:34/20 high score:8 exploration rate:0.01\n",
      "game episode:35/20 high score:8 exploration rate:0.01\n",
      "game episode:36/20 high score:8 exploration rate:0.01\n",
      "game episode:37/20 high score:8 exploration rate:0.01\n"
     ]
    }
   ],
   "source": [
    "for e in range(n_episodes):\n",
    "    state = env.reset()\n",
    "    state = np.reshape(state,[1,state_size])\n",
    "    batch_size = 32\n",
    "    \n",
    "    for t in range(500): #each episode would go for 500 sec\n",
    "        env.render()\n",
    "        action = agent.act(state) # action would be 0 or 1 / left or right\n",
    "        next_state,reward,done,other_info= env.step(action)\n",
    "        reward = reward if not done else -10\n",
    "        next_state = np.reshape(next_state,[1,state_size])\n",
    "        agent.remember(state,action,reward,next_state,done)#experience for the agent\n",
    "    \n",
    "        if done:\n",
    "            print(\"game episode:{}/{} high score:{} exploration rate:{:.2}\".format(e,20,t,agent.epsilon))\n",
    "            break\n",
    "    if len(agent.memory)>batch_size:#no of experiences in the memory should be greater than some threshold then only it is profitable to use then for exploitation\n",
    "        agent.train(batch_size)       #this threshold must always be equal to batch_size\n",
    "                                              #we are creating a batch during training but in real we are feeding single example to neural network as we are using sgd\n",
    "    if e%50==0:\n",
    "        agent.save(output_dir+\"weights_\"+'{:04d}'.format(e)+\".hdf5\") #after each 50 epoch I would save my output\n",
    "print(\"deep q network model trained\")\n",
    "env.close()\n"
   ]
  },
  {
   "cell_type": "code",
   "execution_count": null,
   "metadata": {},
   "outputs": [],
   "source": []
  },
  {
   "cell_type": "code",
   "execution_count": null,
   "metadata": {},
   "outputs": [],
   "source": []
  }
 ],
 "metadata": {
  "kernelspec": {
   "display_name": "Python 3",
   "language": "python",
   "name": "python3"
  },
  "language_info": {
   "codemirror_mode": {
    "name": "ipython",
    "version": 3
   },
   "file_extension": ".py",
   "mimetype": "text/x-python",
   "name": "python",
   "nbconvert_exporter": "python",
   "pygments_lexer": "ipython3",
   "version": "3.8.5"
  }
 },
 "nbformat": 4,
 "nbformat_minor": 4
}
